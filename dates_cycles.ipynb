{
 "cells": [
  {
   "cell_type": "code",
   "execution_count": 189,
   "metadata": {},
   "outputs": [
    {
     "data": {
      "text/plain": [
       "(1000, 3)"
      ]
     },
     "execution_count": 189,
     "metadata": {},
     "output_type": "execute_result"
    }
   ],
   "source": [
    "import pandas as pd\n",
    "fp = 'https://bit.ly/felonies-dataset'\n",
    "df = pd.read_csv(fp)\n",
    "df.shape"
   ]
  },
  {
   "cell_type": "code",
   "execution_count": 190,
   "metadata": {},
   "outputs": [
    {
     "data": {
      "text/plain": [
       "Date of Arrest    object\n",
       "Age                int64\n",
       "Convicted         object\n",
       "dtype: object"
      ]
     },
     "execution_count": 190,
     "metadata": {},
     "output_type": "execute_result"
    }
   ],
   "source": [
    "df.dtypes"
   ]
  },
  {
   "cell_type": "markdown",
   "metadata": {},
   "source": [
    "## La méthode map de Pandas"
   ]
  },
  {
   "cell_type": "code",
   "execution_count": 191,
   "metadata": {},
   "outputs": [],
   "source": [
    "df['DoA'] = pd.to_datetime(df['Date of Arrest'])"
   ]
  },
  {
   "cell_type": "code",
   "execution_count": 192,
   "metadata": {},
   "outputs": [
    {
     "data": {
      "text/plain": [
       "Date of Arrest            object\n",
       "Age                        int64\n",
       "Convicted                 object\n",
       "DoA               datetime64[ns]\n",
       "dtype: object"
      ]
     },
     "execution_count": 192,
     "metadata": {},
     "output_type": "execute_result"
    }
   ],
   "source": [
    "df.dtypes"
   ]
  },
  {
   "cell_type": "code",
   "execution_count": 11,
   "metadata": {},
   "outputs": [],
   "source": [
    "df.drop(\"Date of Arrest\", axis=\"columns\", inplace=True)"
   ]
  },
  {
   "cell_type": "code",
   "execution_count": 12,
   "metadata": {},
   "outputs": [
    {
     "data": {
      "text/plain": [
       "Age                   int64\n",
       "Convicted            object\n",
       "DoA          datetime64[ns]\n",
       "dtype: object"
      ]
     },
     "execution_count": 12,
     "metadata": {},
     "output_type": "execute_result"
    }
   ],
   "source": [
    "df.dtypes"
   ]
  },
  {
   "cell_type": "code",
   "execution_count": 193,
   "metadata": {},
   "outputs": [],
   "source": [
    "#df.DoA.dt.dayofweek"
   ]
  },
  {
   "cell_type": "code",
   "execution_count": 16,
   "metadata": {},
   "outputs": [],
   "source": [
    "dow2weektime = {0:'DEBUT', 1:'DEBUT',2:'MILIEU',3:'MILIEU',4:'MILIEU',5:'WEEKEND',6:'WEEKEND'}"
   ]
  },
  {
   "cell_type": "code",
   "execution_count": 194,
   "metadata": {},
   "outputs": [],
   "source": [
    "#df.DoA.dt.dayofweek.map(dow2weektime)"
   ]
  },
  {
   "cell_type": "markdown",
   "metadata": {},
   "source": [
    "une liste un dictionnaire"
   ]
  },
  {
   "cell_type": "code",
   "execution_count": 18,
   "metadata": {},
   "outputs": [],
   "source": [
    "id2str = ['MONDAY', 'TUESDAY', 'WEDNESDAY', 'THURSDAY', 'FRIDAY', 'SATURDAY', 'SUNDAY']"
   ]
  },
  {
   "cell_type": "code",
   "execution_count": 31,
   "metadata": {},
   "outputs": [],
   "source": [
    "str2id = {value:idx for idx, value in enumerate(id2str)}\n",
    "id2str = {idx:value for idx, value in enumerate(id2str)}"
   ]
  },
  {
   "cell_type": "code",
   "execution_count": 33,
   "metadata": {},
   "outputs": [
    {
     "data": {
      "text/plain": [
       "0"
      ]
     },
     "execution_count": 33,
     "metadata": {},
     "output_type": "execute_result"
    }
   ],
   "source": [
    "str2id[id2str[0]]"
   ]
  },
  {
   "cell_type": "code",
   "execution_count": 195,
   "metadata": {},
   "outputs": [],
   "source": [
    "#df['DoA'].dt.dayofweek.map(id2str)"
   ]
  },
  {
   "cell_type": "code",
   "execution_count": 36,
   "metadata": {},
   "outputs": [],
   "source": [
    "periodSemaine = {'FRIDAY':'MILIEU', 'MONDAY':'DEBUT','SATURDAY':'WEEKEND','SUNDAY':'WEEKEND','THURSDAY':'MILIEU','WEDNESDAY':'MILIEU','TUESDAY':'DEBUT'}"
   ]
  },
  {
   "cell_type": "code",
   "execution_count": 48,
   "metadata": {},
   "outputs": [],
   "source": [
    "df['Period Semaine'] = df['DoA'].dt.dayofweek.map(id2str).map(periodSemaine)"
   ]
  },
  {
   "cell_type": "code",
   "execution_count": 23,
   "metadata": {},
   "outputs": [],
   "source": [
    "jour = str2id"
   ]
  },
  {
   "cell_type": "code",
   "execution_count": 24,
   "metadata": {
    "scrolled": true
   },
   "outputs": [
    {
     "data": {
      "text/plain": [
       "0"
      ]
     },
     "execution_count": 24,
     "metadata": {},
     "output_type": "execute_result"
    }
   ],
   "source": [
    "jour['MONDAY']"
   ]
  },
  {
   "cell_type": "markdown",
   "metadata": {},
   "source": [
    "## Convertir la colonne en type catégorie"
   ]
  },
  {
   "cell_type": "code",
   "execution_count": 46,
   "metadata": {},
   "outputs": [],
   "source": [
    "ordre = ['DEBUT', 'MILIEU', 'WEEKEND']"
   ]
  },
  {
   "cell_type": "code",
   "execution_count": 63,
   "metadata": {},
   "outputs": [],
   "source": [
    "df['Period Semaine'] = (df['Period Semaine'].astype('category')).cat.reorder_categories(ordre).cat.as_ordered()"
   ]
  },
  {
   "cell_type": "markdown",
   "metadata": {},
   "source": [
    "## Convertir colonne \"category\" en \"int [ORDINAL]\""
   ]
  },
  {
   "cell_type": "code",
   "execution_count": null,
   "metadata": {},
   "outputs": [],
   "source": [
    "df['Period Semaine'] = df['Periode Semaine'].cat.codes"
   ]
  },
  {
   "cell_type": "markdown",
   "metadata": {},
   "source": [
    "## PICKLE"
   ]
  },
  {
   "cell_type": "code",
   "execution_count": 25,
   "metadata": {},
   "outputs": [],
   "source": [
    "import pickle"
   ]
  },
  {
   "cell_type": "code",
   "execution_count": 29,
   "metadata": {},
   "outputs": [],
   "source": [
    "chemin = 'dictionnaire.pkl'\n",
    "\n",
    "# en écriture\n",
    "with open(chemin, 'wb') as f:\n",
    "    pickle.dump(id2str, f)\n",
    "    \n",
    "# en lecture\n",
    "with open(chemin, 'rb') as f:\n",
    "    objet = pickle.load(f)"
   ]
  },
  {
   "cell_type": "code",
   "execution_count": 30,
   "metadata": {
    "scrolled": true
   },
   "outputs": [
    {
     "data": {
      "text/plain": [
       "['MONDAY', 'TUESDAY', 'WEDNESDAY', 'THURSDAY', 'FRIDAY', 'SATURDAY', 'SUNDAY']"
      ]
     },
     "execution_count": 30,
     "metadata": {},
     "output_type": "execute_result"
    }
   ],
   "source": [
    "objet"
   ]
  },
  {
   "cell_type": "markdown",
   "metadata": {},
   "source": [
    "## Gérer les cycles"
   ]
  },
  {
   "cell_type": "code",
   "execution_count": 68,
   "metadata": {},
   "outputs": [
    {
     "data": {
      "text/plain": [
       "DoA          object\n",
       "Age           int64\n",
       "Convicted    object\n",
       "dtype: object"
      ]
     },
     "execution_count": 68,
     "metadata": {},
     "output_type": "execute_result"
    }
   ],
   "source": [
    "import pandas as pd\n",
    "fp = 'https://bit.ly/felonies-dataset'\n",
    "df = pd.read_csv(fp)\n",
    "\n",
    "df.rename(columns={\"Date of Arrest\": \"DoA\"}, inplace=True)\n",
    "\n",
    "df.dtypes"
   ]
  },
  {
   "cell_type": "code",
   "execution_count": 70,
   "metadata": {},
   "outputs": [],
   "source": [
    "df['DoA'] = pd.to_datetime(df['DoA'])"
   ]
  },
  {
   "cell_type": "code",
   "execution_count": 97,
   "metadata": {},
   "outputs": [],
   "source": [
    "#df['DoA'].dt.day"
   ]
  },
  {
   "cell_type": "code",
   "execution_count": 73,
   "metadata": {},
   "outputs": [
    {
     "data": {
      "text/plain": [
       "31"
      ]
     },
     "execution_count": 73,
     "metadata": {},
     "output_type": "execute_result"
    }
   ],
   "source": [
    "df['DoA'].dt.day.max()"
   ]
  },
  {
   "cell_type": "code",
   "execution_count": 74,
   "metadata": {},
   "outputs": [
    {
     "data": {
      "text/plain": [
       "12"
      ]
     },
     "execution_count": 74,
     "metadata": {},
     "output_type": "execute_result"
    }
   ],
   "source": [
    "df['DoA'].dt.month.max()"
   ]
  },
  {
   "cell_type": "code",
   "execution_count": 75,
   "metadata": {},
   "outputs": [],
   "source": [
    "colonne_temporaire = df['DoA'].dt.month * 100 + df['DoA'].dt.day"
   ]
  },
  {
   "cell_type": "code",
   "execution_count": 96,
   "metadata": {},
   "outputs": [],
   "source": [
    "#colonne_temporaire"
   ]
  },
  {
   "cell_type": "code",
   "execution_count": 84,
   "metadata": {},
   "outputs": [],
   "source": [
    "AVANT_JANVIER= 0\n",
    "AVANT_PRINTEMPS= 320\n",
    "AVANT_ETE= 620\n",
    "AVANT_AUTOMNE= 920\n",
    "AVANT_HIVER= 1220\n",
    "FIN_ANNEE= 1232\n",
    "bins=[AVANT_JANVIER,AVANT_PRINTEMPS,AVANT_ETE,AVANT_AUTOMNE,AVANT_HIVER,FIN_ANNEE]"
   ]
  },
  {
   "cell_type": "code",
   "execution_count": 87,
   "metadata": {},
   "outputs": [],
   "source": [
    "saisons = pd.cut(colonne_temporaire, bins=bins ,labels=['HIVER', 'PRINTEMPS', 'ETE', 'AUTOMNE', 'HIVER2'])"
   ]
  },
  {
   "cell_type": "code",
   "execution_count": 88,
   "metadata": {},
   "outputs": [
    {
     "data": {
      "text/plain": [
       "array(['ETE', 'AUTOMNE', 'PRINTEMPS', 'HIVER'], dtype=object)"
      ]
     },
     "execution_count": 88,
     "metadata": {},
     "output_type": "execute_result"
    }
   ],
   "source": [
    "saisons = saisons.str.replace('2', '')\n",
    "saisons.unique()"
   ]
  },
  {
   "cell_type": "code",
   "execution_count": 89,
   "metadata": {},
   "outputs": [
    {
     "data": {
      "text/plain": [
       "0          ETE\n",
       "1      AUTOMNE\n",
       "2          ETE\n",
       "3    PRINTEMPS\n",
       "4    PRINTEMPS\n",
       "Name: DoA, dtype: object"
      ]
     },
     "execution_count": 89,
     "metadata": {},
     "output_type": "execute_result"
    }
   ],
   "source": [
    "saisons.head()"
   ]
  },
  {
   "cell_type": "code",
   "execution_count": 91,
   "metadata": {},
   "outputs": [],
   "source": [
    "ordre = ['HIVER', 'PRINTEMPS', 'ETE', 'AUTOMNE']\n",
    "saisons = (saisons.astype('category')).cat.reorder_categories(ordre).cat.as_ordered()"
   ]
  },
  {
   "cell_type": "code",
   "execution_count": 98,
   "metadata": {},
   "outputs": [],
   "source": [
    "#saisons"
   ]
  },
  {
   "cell_type": "code",
   "execution_count": 93,
   "metadata": {},
   "outputs": [
    {
     "data": {
      "text/plain": [
       "0          ETE\n",
       "1      AUTOMNE\n",
       "2          ETE\n",
       "3    PRINTEMPS\n",
       "4    PRINTEMPS\n",
       "Name: DoA, dtype: category\n",
       "Categories (4, object): [HIVER < PRINTEMPS < ETE < AUTOMNE]"
      ]
     },
     "execution_count": 93,
     "metadata": {},
     "output_type": "execute_result"
    }
   ],
   "source": [
    "saisons.head()"
   ]
  },
  {
   "cell_type": "markdown",
   "metadata": {},
   "source": [
    "## with time"
   ]
  },
  {
   "cell_type": "code",
   "execution_count": 94,
   "metadata": {},
   "outputs": [
    {
     "data": {
      "text/html": [
       "<div>\n",
       "<style scoped>\n",
       "    .dataframe tbody tr th:only-of-type {\n",
       "        vertical-align: middle;\n",
       "    }\n",
       "\n",
       "    .dataframe tbody tr th {\n",
       "        vertical-align: top;\n",
       "    }\n",
       "\n",
       "    .dataframe thead th {\n",
       "        text-align: right;\n",
       "    }\n",
       "</style>\n",
       "<table border=\"1\" class=\"dataframe\">\n",
       "  <thead>\n",
       "    <tr style=\"text-align: right;\">\n",
       "      <th></th>\n",
       "      <th>DoA</th>\n",
       "      <th>Age</th>\n",
       "      <th>Convicted</th>\n",
       "    </tr>\n",
       "  </thead>\n",
       "  <tbody>\n",
       "    <tr>\n",
       "      <th>0</th>\n",
       "      <td>2014-07-16 14:59:18</td>\n",
       "      <td>77</td>\n",
       "      <td>Yes</td>\n",
       "    </tr>\n",
       "    <tr>\n",
       "      <th>1</th>\n",
       "      <td>2002-12-19 22:17:59</td>\n",
       "      <td>28</td>\n",
       "      <td>Yes</td>\n",
       "    </tr>\n",
       "    <tr>\n",
       "      <th>2</th>\n",
       "      <td>1994-06-28 09:31:40</td>\n",
       "      <td>21</td>\n",
       "      <td>No</td>\n",
       "    </tr>\n",
       "    <tr>\n",
       "      <th>3</th>\n",
       "      <td>1985-05-14 09:52:17</td>\n",
       "      <td>45</td>\n",
       "      <td>Yes</td>\n",
       "    </tr>\n",
       "    <tr>\n",
       "      <th>4</th>\n",
       "      <td>1985-05-25 14:06:28</td>\n",
       "      <td>39</td>\n",
       "      <td>Yes</td>\n",
       "    </tr>\n",
       "  </tbody>\n",
       "</table>\n",
       "</div>"
      ],
      "text/plain": [
       "                  DoA  Age Convicted\n",
       "0 2014-07-16 14:59:18   77       Yes\n",
       "1 2002-12-19 22:17:59   28       Yes\n",
       "2 1994-06-28 09:31:40   21        No\n",
       "3 1985-05-14 09:52:17   45       Yes\n",
       "4 1985-05-25 14:06:28   39       Yes"
      ]
     },
     "execution_count": 94,
     "metadata": {},
     "output_type": "execute_result"
    }
   ],
   "source": [
    "df.head()"
   ]
  },
  {
   "cell_type": "markdown",
   "metadata": {},
   "source": [
    "### Convertit en secondes"
   ]
  },
  {
   "cell_type": "code",
   "execution_count": 122,
   "metadata": {},
   "outputs": [],
   "source": [
    "colonne_temporaire = df['DoA'].dt.hour * 3600 + df['DoA'].dt.minute * 60 + df['DoA'].dt.second"
   ]
  },
  {
   "cell_type": "code",
   "execution_count": 113,
   "metadata": {},
   "outputs": [],
   "source": [
    "AVANT_DEBUT= 0\n",
    "AVANT_MATIN= 12240\n",
    "AVANT_AM =79860\n",
    "AVANT_NUIT= 79919\n",
    "FIN= 86400\n",
    "\n",
    "bins=[AVANT_DEBUT,AVANT_MATIN,AVANT_AM,AVANT_NUIT,FIN]"
   ]
  },
  {
   "cell_type": "code",
   "execution_count": 123,
   "metadata": {},
   "outputs": [],
   "source": [
    "time = pd.cut(colonne_temporaire, bins=bins ,labels=['NUIT', 'MATIN', 'AM', 'NUIT2'])"
   ]
  },
  {
   "cell_type": "code",
   "execution_count": 120,
   "metadata": {},
   "outputs": [
    {
     "data": {
      "text/plain": [
       "0    MATIN\n",
       "1     NUIT\n",
       "2    MATIN\n",
       "3    MATIN\n",
       "4    MATIN\n",
       "Name: DoA, dtype: object"
      ]
     },
     "execution_count": 120,
     "metadata": {},
     "output_type": "execute_result"
    }
   ],
   "source": [
    "time = time.str.replace('2', '')\n",
    "time.head()"
   ]
  },
  {
   "cell_type": "markdown",
   "metadata": {},
   "source": [
    "### Convertit avec *1000 et *100"
   ]
  },
  {
   "cell_type": "code",
   "execution_count": 200,
   "metadata": {},
   "outputs": [],
   "source": [
    "colonne_temporaire2 = df['DoA'].dt.hour * 10000 + df['DoA'].dt.minute * 100 + df['DoA'].dt.second"
   ]
  },
  {
   "cell_type": "code",
   "execution_count": 201,
   "metadata": {},
   "outputs": [],
   "source": [
    "AVANT_DEBUT= 0\n",
    "AVANT_MATIN= 32400\n",
    "AVANT_AM = 161200\n",
    "AVANT_NUIT= 221200\n",
    "FIN= 235959\n",
    "\n",
    "bins=[AVANT_DEBUT,AVANT_MATIN,AVANT_AM,AVANT_NUIT,FIN]"
   ]
  },
  {
   "cell_type": "code",
   "execution_count": 202,
   "metadata": {},
   "outputs": [],
   "source": [
    "time2 = pd.cut(colonne_temporaire2, bins=bins ,labels=['NUIT', 'MATIN', 'AM', 'NUIT2'])"
   ]
  },
  {
   "cell_type": "code",
   "execution_count": 203,
   "metadata": {},
   "outputs": [
    {
     "data": {
      "text/plain": [
       "0    MATIN\n",
       "1    MATIN\n",
       "2       AM\n",
       "3     NUIT\n",
       "4    MATIN\n",
       "Name: time, dtype: object"
      ]
     },
     "execution_count": 203,
     "metadata": {},
     "output_type": "execute_result"
    }
   ],
   "source": [
    "time2 = time.str.replace('2', '')\n",
    "time2.head()"
   ]
  },
  {
   "cell_type": "markdown",
   "metadata": {},
   "source": [
    "## Autre dataset"
   ]
  },
  {
   "cell_type": "code",
   "execution_count": 176,
   "metadata": {},
   "outputs": [
    {
     "data": {
      "text/plain": [
       "(1000, 6)"
      ]
     },
     "execution_count": 176,
     "metadata": {},
     "output_type": "execute_result"
    }
   ],
   "source": [
    "import pandas as pd\n",
    "fp = 'https://bit.ly/vintage-auctions'\n",
    "df2 = pd.read_csv(fp)\n",
    "df2.shape"
   ]
  },
  {
   "cell_type": "code",
   "execution_count": 177,
   "metadata": {},
   "outputs": [
    {
     "data": {
      "text/html": [
       "<div>\n",
       "<style scoped>\n",
       "    .dataframe tbody tr th:only-of-type {\n",
       "        vertical-align: middle;\n",
       "    }\n",
       "\n",
       "    .dataframe tbody tr th {\n",
       "        vertical-align: top;\n",
       "    }\n",
       "\n",
       "    .dataframe thead th {\n",
       "        text-align: right;\n",
       "    }\n",
       "</style>\n",
       "<table border=\"1\" class=\"dataframe\">\n",
       "  <thead>\n",
       "    <tr style=\"text-align: right;\">\n",
       "      <th></th>\n",
       "      <th>tx id</th>\n",
       "      <th>time</th>\n",
       "      <th>auction</th>\n",
       "      <th>color</th>\n",
       "      <th>shirt size</th>\n",
       "      <th>condition</th>\n",
       "    </tr>\n",
       "  </thead>\n",
       "  <tbody>\n",
       "    <tr>\n",
       "      <th>0</th>\n",
       "      <td>8dbf3cfa48b25f32e300f279bb4163c67d5c60cd</td>\n",
       "      <td>3:36 PM</td>\n",
       "      <td>$17.18</td>\n",
       "      <td>Puce</td>\n",
       "      <td>S</td>\n",
       "      <td>used</td>\n",
       "    </tr>\n",
       "    <tr>\n",
       "      <th>1</th>\n",
       "      <td>8ccebfdb1a41830bdcc0e926531f3215986b3a90</td>\n",
       "      <td>9:03 AM</td>\n",
       "      <td>$15.19</td>\n",
       "      <td>Aquamarine</td>\n",
       "      <td>L</td>\n",
       "      <td>never worn</td>\n",
       "    </tr>\n",
       "    <tr>\n",
       "      <th>2</th>\n",
       "      <td>ae85a421a91cec8baf16ff1e45fb3e239130b584</td>\n",
       "      <td>7:42 PM</td>\n",
       "      <td>$7.58</td>\n",
       "      <td>Violet</td>\n",
       "      <td>L</td>\n",
       "      <td>used</td>\n",
       "    </tr>\n",
       "    <tr>\n",
       "      <th>3</th>\n",
       "      <td>85e44f09a04a79182befcfd55e288a855f633e81</td>\n",
       "      <td>10:28 PM</td>\n",
       "      <td>$9.10</td>\n",
       "      <td>Goldenrod</td>\n",
       "      <td>XS</td>\n",
       "      <td>NaN</td>\n",
       "    </tr>\n",
       "    <tr>\n",
       "      <th>4</th>\n",
       "      <td>ff750bfca4910cfa7f538fbe5463457839021680</td>\n",
       "      <td>6:38 AM</td>\n",
       "      <td>$8.22</td>\n",
       "      <td>NaN</td>\n",
       "      <td>2XL</td>\n",
       "      <td>used</td>\n",
       "    </tr>\n",
       "  </tbody>\n",
       "</table>\n",
       "</div>"
      ],
      "text/plain": [
       "                                      tx id      time auction       color  \\\n",
       "0  8dbf3cfa48b25f32e300f279bb4163c67d5c60cd   3:36 PM  $17.18        Puce   \n",
       "1  8ccebfdb1a41830bdcc0e926531f3215986b3a90   9:03 AM  $15.19  Aquamarine   \n",
       "2  ae85a421a91cec8baf16ff1e45fb3e239130b584   7:42 PM   $7.58      Violet   \n",
       "3  85e44f09a04a79182befcfd55e288a855f633e81  10:28 PM   $9.10   Goldenrod   \n",
       "4  ff750bfca4910cfa7f538fbe5463457839021680   6:38 AM   $8.22         NaN   \n",
       "\n",
       "  shirt size   condition  \n",
       "0          S        used  \n",
       "1          L  never worn  \n",
       "2          L        used  \n",
       "3         XS         NaN  \n",
       "4        2XL        used  "
      ]
     },
     "execution_count": 177,
     "metadata": {},
     "output_type": "execute_result"
    }
   ],
   "source": [
    "df2.head()"
   ]
  },
  {
   "cell_type": "code",
   "execution_count": 206,
   "metadata": {},
   "outputs": [
    {
     "data": {
      "text/plain": [
       "tx id                 object\n",
       "time          datetime64[ns]\n",
       "auction               object\n",
       "color                 object\n",
       "shirt size            object\n",
       "condition             object\n",
       "dtype: object"
      ]
     },
     "execution_count": 206,
     "metadata": {},
     "output_type": "execute_result"
    }
   ],
   "source": [
    "df2.dtypes"
   ]
  },
  {
   "cell_type": "code",
   "execution_count": 178,
   "metadata": {},
   "outputs": [],
   "source": [
    "df2['time'] = pd.to_datetime(df2['time'])"
   ]
  },
  {
   "cell_type": "code",
   "execution_count": 207,
   "metadata": {},
   "outputs": [
    {
     "data": {
      "text/html": [
       "<div>\n",
       "<style scoped>\n",
       "    .dataframe tbody tr th:only-of-type {\n",
       "        vertical-align: middle;\n",
       "    }\n",
       "\n",
       "    .dataframe tbody tr th {\n",
       "        vertical-align: top;\n",
       "    }\n",
       "\n",
       "    .dataframe thead th {\n",
       "        text-align: right;\n",
       "    }\n",
       "</style>\n",
       "<table border=\"1\" class=\"dataframe\">\n",
       "  <thead>\n",
       "    <tr style=\"text-align: right;\">\n",
       "      <th></th>\n",
       "      <th>tx id</th>\n",
       "      <th>time</th>\n",
       "      <th>auction</th>\n",
       "      <th>color</th>\n",
       "      <th>shirt size</th>\n",
       "      <th>condition</th>\n",
       "    </tr>\n",
       "  </thead>\n",
       "  <tbody>\n",
       "    <tr>\n",
       "      <th>995</th>\n",
       "      <td>6fa16b110f53367cf15e6e1dcffdcb4c2653f1ab</td>\n",
       "      <td>2020-09-24 09:56:00</td>\n",
       "      <td>$5.79</td>\n",
       "      <td>Violet</td>\n",
       "      <td>2XL</td>\n",
       "      <td>NaN</td>\n",
       "    </tr>\n",
       "    <tr>\n",
       "      <th>996</th>\n",
       "      <td>2b7b6cbc2224502c7137262575e97a450b336fc2</td>\n",
       "      <td>2020-09-24 11:31:00</td>\n",
       "      <td>$14.07</td>\n",
       "      <td>Purple</td>\n",
       "      <td>S</td>\n",
       "      <td>Used</td>\n",
       "    </tr>\n",
       "    <tr>\n",
       "      <th>997</th>\n",
       "      <td>7f2a5141de8a7f752f8f98722393ffa3b0fb1e7a</td>\n",
       "      <td>2020-09-24 06:25:00</td>\n",
       "      <td>$17.63</td>\n",
       "      <td>Yellow</td>\n",
       "      <td>XS</td>\n",
       "      <td>used</td>\n",
       "    </tr>\n",
       "    <tr>\n",
       "      <th>998</th>\n",
       "      <td>c4549687dee4d3061fd3c82433367bea083d4d05</td>\n",
       "      <td>2020-09-24 02:22:00</td>\n",
       "      <td>$17.00</td>\n",
       "      <td>Yellow</td>\n",
       "      <td>L</td>\n",
       "      <td>Used</td>\n",
       "    </tr>\n",
       "    <tr>\n",
       "      <th>999</th>\n",
       "      <td>abf227d09fe37b3e333b419e0854c6c2fd1caa50</td>\n",
       "      <td>2020-09-24 19:47:00</td>\n",
       "      <td>$17.05</td>\n",
       "      <td>Indigo</td>\n",
       "      <td>XL</td>\n",
       "      <td>used</td>\n",
       "    </tr>\n",
       "  </tbody>\n",
       "</table>\n",
       "</div>"
      ],
      "text/plain": [
       "                                        tx id                time auction  \\\n",
       "995  6fa16b110f53367cf15e6e1dcffdcb4c2653f1ab 2020-09-24 09:56:00   $5.79   \n",
       "996  2b7b6cbc2224502c7137262575e97a450b336fc2 2020-09-24 11:31:00  $14.07   \n",
       "997  7f2a5141de8a7f752f8f98722393ffa3b0fb1e7a 2020-09-24 06:25:00  $17.63   \n",
       "998  c4549687dee4d3061fd3c82433367bea083d4d05 2020-09-24 02:22:00  $17.00   \n",
       "999  abf227d09fe37b3e333b419e0854c6c2fd1caa50 2020-09-24 19:47:00  $17.05   \n",
       "\n",
       "      color shirt size condition  \n",
       "995  Violet        2XL       NaN  \n",
       "996  Purple          S      Used  \n",
       "997  Yellow         XS      used  \n",
       "998  Yellow          L      Used  \n",
       "999  Indigo         XL      used  "
      ]
     },
     "execution_count": 207,
     "metadata": {},
     "output_type": "execute_result"
    }
   ],
   "source": [
    "df2.tail()"
   ]
  },
  {
   "cell_type": "code",
   "execution_count": 196,
   "metadata": {},
   "outputs": [],
   "source": [
    "colonne_temporaire = df2['time'].dt.hour * 10000 + df2['time'].dt.minute * 100 + df2['time'].dt.second"
   ]
  },
  {
   "cell_type": "code",
   "execution_count": 197,
   "metadata": {},
   "outputs": [],
   "source": [
    "AVANT_DEBUT= 0\n",
    "AVANT_MATIN= 32400\n",
    "AVANT_AM = 161200\n",
    "AVANT_NUIT= 221200\n",
    "FIN= 235959\n",
    "\n",
    "bins=[AVANT_DEBUT,AVANT_MATIN,AVANT_AM,AVANT_NUIT,FIN]"
   ]
  },
  {
   "cell_type": "code",
   "execution_count": 198,
   "metadata": {},
   "outputs": [],
   "source": [
    "time = pd.cut(colonne_temporaire, bins=bins ,labels=['NUIT', 'MATIN', 'AM', 'NUIT2'])"
   ]
  },
  {
   "cell_type": "code",
   "execution_count": 199,
   "metadata": {},
   "outputs": [
    {
     "data": {
      "text/plain": [
       "0    MATIN\n",
       "1    MATIN\n",
       "2       AM\n",
       "3     NUIT\n",
       "4    MATIN\n",
       "Name: time, dtype: object"
      ]
     },
     "execution_count": 199,
     "metadata": {},
     "output_type": "execute_result"
    }
   ],
   "source": [
    "time = time.str.replace('2', '')\n",
    "time.head()"
   ]
  },
  {
   "cell_type": "code",
   "execution_count": 210,
   "metadata": {},
   "outputs": [],
   "source": [
    "df2['auction'] = df2['auction'].str.slice(start=1)"
   ]
  },
  {
   "cell_type": "code",
   "execution_count": 213,
   "metadata": {},
   "outputs": [],
   "source": [
    "df2['auction'] = df2['auction'].astype('float')"
   ]
  },
  {
   "cell_type": "code",
   "execution_count": 215,
   "metadata": {},
   "outputs": [
    {
     "data": {
      "text/plain": [
       "tx id                 object\n",
       "time          datetime64[ns]\n",
       "auction              float64\n",
       "color                 object\n",
       "shirt size            object\n",
       "condition             object\n",
       "dtype: object"
      ]
     },
     "execution_count": 215,
     "metadata": {},
     "output_type": "execute_result"
    }
   ],
   "source": [
    "df2.dtypes"
   ]
  },
  {
   "cell_type": "code",
   "execution_count": null,
   "metadata": {},
   "outputs": [],
   "source": []
  }
 ],
 "metadata": {
  "kernelspec": {
   "display_name": "Python 3",
   "language": "python",
   "name": "python3"
  },
  "language_info": {
   "codemirror_mode": {
    "name": "ipython",
    "version": 3
   },
   "file_extension": ".py",
   "mimetype": "text/x-python",
   "name": "python",
   "nbconvert_exporter": "python",
   "pygments_lexer": "ipython3",
   "version": "3.5.2"
  }
 },
 "nbformat": 4,
 "nbformat_minor": 4
}
