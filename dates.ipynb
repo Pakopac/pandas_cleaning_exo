{
 "cells": [
  {
   "cell_type": "code",
   "execution_count": 1,
   "metadata": {},
   "outputs": [
    {
     "data": {
      "text/plain": [
       "(1000, 3)"
      ]
     },
     "execution_count": 1,
     "metadata": {},
     "output_type": "execute_result"
    }
   ],
   "source": [
    "import pandas as pd\n",
    "fp = 'https://bit.ly/felonies-dataset'\n",
    "df = pd.read_csv(fp)\n",
    "df.shape"
   ]
  },
  {
   "cell_type": "markdown",
   "metadata": {},
   "source": [
    "## A la dure"
   ]
  },
  {
   "cell_type": "code",
   "execution_count": 3,
   "metadata": {},
   "outputs": [],
   "source": [
    "df.rename(columns={\"Date of Arrest\": \"DoA\"}, inplace=True)"
   ]
  },
  {
   "cell_type": "code",
   "execution_count": 4,
   "metadata": {},
   "outputs": [
    {
     "data": {
      "text/plain": [
       "'1968-01-10 02:41:49'"
      ]
     },
     "execution_count": 4,
     "metadata": {},
     "output_type": "execute_result"
    }
   ],
   "source": [
    "df['DoA'].min()"
   ]
  },
  {
   "cell_type": "code",
   "execution_count": 6,
   "metadata": {},
   "outputs": [
    {
     "data": {
      "text/plain": [
       "'2020-01-28 13:33:46'"
      ]
     },
     "execution_count": 6,
     "metadata": {},
     "output_type": "execute_result"
    }
   ],
   "source": [
    "df['DoA'].max()"
   ]
  },
  {
   "cell_type": "code",
   "execution_count": 7,
   "metadata": {},
   "outputs": [
    {
     "data": {
      "text/html": [
       "<div>\n",
       "<style scoped>\n",
       "    .dataframe tbody tr th:only-of-type {\n",
       "        vertical-align: middle;\n",
       "    }\n",
       "\n",
       "    .dataframe tbody tr th {\n",
       "        vertical-align: top;\n",
       "    }\n",
       "\n",
       "    .dataframe thead th {\n",
       "        text-align: right;\n",
       "    }\n",
       "</style>\n",
       "<table border=\"1\" class=\"dataframe\">\n",
       "  <thead>\n",
       "    <tr style=\"text-align: right;\">\n",
       "      <th></th>\n",
       "      <th>DoA</th>\n",
       "      <th>Age</th>\n",
       "      <th>Convicted</th>\n",
       "    </tr>\n",
       "  </thead>\n",
       "  <tbody>\n",
       "    <tr>\n",
       "      <th>0</th>\n",
       "      <td>2014-07-16 14:59:18</td>\n",
       "      <td>77</td>\n",
       "      <td>Yes</td>\n",
       "    </tr>\n",
       "    <tr>\n",
       "      <th>1</th>\n",
       "      <td>2002-12-19 22:17:59</td>\n",
       "      <td>28</td>\n",
       "      <td>Yes</td>\n",
       "    </tr>\n",
       "    <tr>\n",
       "      <th>2</th>\n",
       "      <td>1994-06-28 09:31:40</td>\n",
       "      <td>21</td>\n",
       "      <td>No</td>\n",
       "    </tr>\n",
       "    <tr>\n",
       "      <th>3</th>\n",
       "      <td>1985-05-14 09:52:17</td>\n",
       "      <td>45</td>\n",
       "      <td>Yes</td>\n",
       "    </tr>\n",
       "    <tr>\n",
       "      <th>4</th>\n",
       "      <td>1985-05-25 14:06:28</td>\n",
       "      <td>39</td>\n",
       "      <td>Yes</td>\n",
       "    </tr>\n",
       "  </tbody>\n",
       "</table>\n",
       "</div>"
      ],
      "text/plain": [
       "                   DoA  Age Convicted\n",
       "0  2014-07-16 14:59:18   77       Yes\n",
       "1  2002-12-19 22:17:59   28       Yes\n",
       "2  1994-06-28 09:31:40   21        No\n",
       "3  1985-05-14 09:52:17   45       Yes\n",
       "4  1985-05-25 14:06:28   39       Yes"
      ]
     },
     "execution_count": 7,
     "metadata": {},
     "output_type": "execute_result"
    }
   ],
   "source": [
    "df.head()"
   ]
  },
  {
   "cell_type": "code",
   "execution_count": 9,
   "metadata": {},
   "outputs": [],
   "source": [
    "df[\"YoA\"] = df.DoA.str.slice(0,4)"
   ]
  },
  {
   "cell_type": "markdown",
   "metadata": {},
   "source": [
    "## A la cool"
   ]
  },
  {
   "cell_type": "code",
   "execution_count": 12,
   "metadata": {},
   "outputs": [],
   "source": [
    "df['DoA'] = pd.to_datetime(df['DoA'])"
   ]
  },
  {
   "cell_type": "code",
   "execution_count": 13,
   "metadata": {},
   "outputs": [
    {
     "data": {
      "text/plain": [
       "DoA          datetime64[ns]\n",
       "Age                   int64\n",
       "Convicted            object\n",
       "YoA                  object\n",
       "dtype: object"
      ]
     },
     "execution_count": 13,
     "metadata": {},
     "output_type": "execute_result"
    }
   ],
   "source": [
    "df.dtypes"
   ]
  },
  {
   "cell_type": "code",
   "execution_count": 17,
   "metadata": {},
   "outputs": [
    {
     "data": {
      "text/plain": [
       "0      2\n",
       "1      3\n",
       "2      1\n",
       "3      1\n",
       "4      5\n",
       "5      6\n",
       "6      1\n",
       "7      0\n",
       "8      2\n",
       "9      2\n",
       "10     1\n",
       "11     6\n",
       "12     6\n",
       "13     3\n",
       "14     6\n",
       "15     3\n",
       "16     4\n",
       "17     5\n",
       "18     1\n",
       "19     5\n",
       "20     0\n",
       "21     2\n",
       "22     2\n",
       "23     0\n",
       "24     6\n",
       "25     3\n",
       "26     0\n",
       "27     4\n",
       "28     5\n",
       "29     4\n",
       "      ..\n",
       "970    2\n",
       "971    0\n",
       "972    4\n",
       "973    1\n",
       "974    5\n",
       "975    4\n",
       "976    4\n",
       "977    2\n",
       "978    0\n",
       "979    6\n",
       "980    5\n",
       "981    2\n",
       "982    6\n",
       "983    2\n",
       "984    3\n",
       "985    4\n",
       "986    4\n",
       "987    5\n",
       "988    2\n",
       "989    2\n",
       "990    1\n",
       "991    3\n",
       "992    3\n",
       "993    0\n",
       "994    4\n",
       "995    1\n",
       "996    0\n",
       "997    1\n",
       "998    0\n",
       "999    6\n",
       "Name: DoA, Length: 1000, dtype: int64"
      ]
     },
     "execution_count": 17,
     "metadata": {},
     "output_type": "execute_result"
    }
   ],
   "source": [
    "df['DoA'].dt.year\n",
    "df['DoA'].dt.day\n",
    "df['DoA'].dt.dayofweek"
   ]
  },
  {
   "cell_type": "code",
   "execution_count": 19,
   "metadata": {},
   "outputs": [
    {
     "data": {
      "text/plain": [
       "['sixties',\n",
       " 'seventies',\n",
       " 'eighties',\n",
       " 'nineties',\n",
       " 'zeroties',\n",
       " 'tenties',\n",
       " 'twenties']"
      ]
     },
     "execution_count": 19,
     "metadata": {},
     "output_type": "execute_result"
    }
   ],
   "source": [
    "labels = ['six', 'seven', 'eigh', 'nine', 'zero', 'ten','twen']\n",
    "labels = [l+'ties' for l in labels]\n",
    "labels"
   ]
  },
  {
   "cell_type": "code",
   "execution_count": 22,
   "metadata": {},
   "outputs": [
    {
     "data": {
      "text/plain": [
       "0"
      ]
     },
     "execution_count": 22,
     "metadata": {},
     "output_type": "execute_result"
    }
   ],
   "source": [
    "from datetime import datetime\n",
    "\n",
    "obj_dt = datetime(year=1, month=1, day=1)\n",
    "obj_dt.weekday()"
   ]
  },
  {
   "cell_type": "code",
   "execution_count": 23,
   "metadata": {},
   "outputs": [],
   "source": [
    "bins = list(range(1959, 2030, 10))"
   ]
  },
  {
   "cell_type": "code",
   "execution_count": 24,
   "metadata": {},
   "outputs": [
    {
     "data": {
      "text/plain": [
       "0        tenties\n",
       "1       zeroties\n",
       "2       nineties\n",
       "3       eighties\n",
       "4       eighties\n",
       "5       eighties\n",
       "6       eighties\n",
       "7       zeroties\n",
       "8       nineties\n",
       "9        tenties\n",
       "10     seventies\n",
       "11     seventies\n",
       "12      zeroties\n",
       "13      nineties\n",
       "14      eighties\n",
       "15      zeroties\n",
       "16       tenties\n",
       "17      nineties\n",
       "18     seventies\n",
       "19      eighties\n",
       "20      nineties\n",
       "21     seventies\n",
       "22      nineties\n",
       "23       tenties\n",
       "24      zeroties\n",
       "25      zeroties\n",
       "26      zeroties\n",
       "27      zeroties\n",
       "28      zeroties\n",
       "29     seventies\n",
       "         ...    \n",
       "970     nineties\n",
       "971     nineties\n",
       "972      tenties\n",
       "973    seventies\n",
       "974     eighties\n",
       "975     zeroties\n",
       "976     eighties\n",
       "977    seventies\n",
       "978     zeroties\n",
       "979     nineties\n",
       "980     eighties\n",
       "981    seventies\n",
       "982     zeroties\n",
       "983      sixties\n",
       "984      tenties\n",
       "985      sixties\n",
       "986      tenties\n",
       "987     nineties\n",
       "988    seventies\n",
       "989     nineties\n",
       "990    seventies\n",
       "991      tenties\n",
       "992     nineties\n",
       "993      tenties\n",
       "994    seventies\n",
       "995     nineties\n",
       "996     nineties\n",
       "997     eighties\n",
       "998     nineties\n",
       "999     nineties\n",
       "Name: DoA, Length: 1000, dtype: category\n",
       "Categories (7, object): [sixties < seventies < eighties < nineties < zeroties < tenties < twenties]"
      ]
     },
     "execution_count": 24,
     "metadata": {},
     "output_type": "execute_result"
    }
   ],
   "source": [
    "pd.cut(df['DoA'].dt.year, bins=bins, labels=labels)"
   ]
  },
  {
   "cell_type": "code",
   "execution_count": 25,
   "metadata": {},
   "outputs": [
    {
     "data": {
      "text/plain": [
       "0        tenties\n",
       "1       zeroties\n",
       "2       nineties\n",
       "3       eighties\n",
       "4       eighties\n",
       "5       eighties\n",
       "6       nineties\n",
       "7       zeroties\n",
       "8       nineties\n",
       "9        tenties\n",
       "10     seventies\n",
       "11     seventies\n",
       "12      zeroties\n",
       "13      nineties\n",
       "14      eighties\n",
       "15      zeroties\n",
       "16       tenties\n",
       "17      nineties\n",
       "18     seventies\n",
       "19      eighties\n",
       "20      nineties\n",
       "21     seventies\n",
       "22      nineties\n",
       "23      twenties\n",
       "24      zeroties\n",
       "25      zeroties\n",
       "26      zeroties\n",
       "27      zeroties\n",
       "28      zeroties\n",
       "29     seventies\n",
       "         ...    \n",
       "970     nineties\n",
       "971     nineties\n",
       "972      tenties\n",
       "973    seventies\n",
       "974     eighties\n",
       "975     zeroties\n",
       "976     eighties\n",
       "977    seventies\n",
       "978     zeroties\n",
       "979     nineties\n",
       "980     eighties\n",
       "981    seventies\n",
       "982     zeroties\n",
       "983    seventies\n",
       "984      tenties\n",
       "985      sixties\n",
       "986      tenties\n",
       "987     nineties\n",
       "988    seventies\n",
       "989     nineties\n",
       "990     eighties\n",
       "991      tenties\n",
       "992     nineties\n",
       "993      tenties\n",
       "994    seventies\n",
       "995     nineties\n",
       "996     nineties\n",
       "997     eighties\n",
       "998     zeroties\n",
       "999     nineties\n",
       "Name: DoA, Length: 1000, dtype: category\n",
       "Categories (7, object): [sixties < seventies < eighties < nineties < zeroties < tenties < twenties]"
      ]
     },
     "execution_count": 25,
     "metadata": {},
     "output_type": "execute_result"
    }
   ],
   "source": [
    "year = lambda y: datetime(year=y, month=1, day=1)\n",
    "bins = [year(b) for b in bins]\n",
    "pd.cut(df['DoA'], bins=bins, labels=labels)"
   ]
  },
  {
   "cell_type": "code",
   "execution_count": null,
   "metadata": {},
   "outputs": [],
   "source": []
  }
 ],
 "metadata": {
  "kernelspec": {
   "display_name": "Python 3",
   "language": "python",
   "name": "python3"
  },
  "language_info": {
   "codemirror_mode": {
    "name": "ipython",
    "version": 3
   },
   "file_extension": ".py",
   "mimetype": "text/x-python",
   "name": "python",
   "nbconvert_exporter": "python",
   "pygments_lexer": "ipython3",
   "version": "3.5.2"
  }
 },
 "nbformat": 4,
 "nbformat_minor": 4
}
